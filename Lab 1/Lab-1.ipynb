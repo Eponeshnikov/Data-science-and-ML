{
 "cells": [
  {
   "cell_type": "markdown",
   "metadata": {},
   "source": [
    " ## Лабораторная 1: Обработка и исследование данных\n",
    "\n",
    " ```\n",
    "\n",
    " План лабораторной работы\n",
    "\n",
    " 1. Исследование данных\n",
    "\n",
    " 2. One-hot-кодирование категориальных признаков\n",
    "\n",
    " 3. Заполнение пропущенных значений (импутация)\n",
    "\n",
    " 4. Масштабирование признаков\n",
    "\n",
    " 5. Разделение обучающей выборки\n",
    "\n",
    " 6. Визуализация данных\n",
    "\n",
    "\n",
    "\n",
    " ```\n",
    "\n",
    "\n",
    "\n",
    " <hr>"
   ]
  },
  {
   "cell_type": "markdown",
   "metadata": {},
   "source": [
    " ## Проверка установки библиотек"
   ]
  },
  {
   "cell_type": "code",
   "execution_count": null,
   "metadata": {},
   "outputs": [],
   "source": [
    "import pandas as pd\n",
    "import numpy as np\n",
    "\n",
    "import matplotlib.pyplot as plt\n",
    "%matplotlib inline\n"
   ]
  },
  {
   "cell_type": "markdown",
   "metadata": {},
   "source": [
    " ## Чтение данных с помощью Pandas"
   ]
  },
  {
   "cell_type": "code",
   "execution_count": null,
   "metadata": {},
   "outputs": [],
   "source": [
    "train_data = pd.read_csv('./train.csv')\n",
    "test_data = pd.read_csv('./test.csv')\n",
    "x_train = train_data.drop('y', axis=1)\n",
    "y_train = train_data['y']\n"
   ]
  },
  {
   "cell_type": "markdown",
   "metadata": {},
   "source": [
    " ## Исследование данных"
   ]
  },
  {
   "cell_type": "code",
   "execution_count": null,
   "metadata": {},
   "outputs": [],
   "source": [
    "x_train.head(5)\n"
   ]
  },
  {
   "cell_type": "code",
   "execution_count": null,
   "metadata": {},
   "outputs": [],
   "source": [
    "types = x_train.dtypes\n",
    "print(\"Количество категориальных признаков:\", sum(types=='object'))\n",
    "print(types)\n"
   ]
  },
  {
   "cell_type": "code",
   "execution_count": null,
   "metadata": {},
   "outputs": [],
   "source": [
    "x_train.describe()\n"
   ]
  },
  {
   "cell_type": "markdown",
   "metadata": {},
   "source": [
    " ### One-hot-кодирование категориального признака\n",
    "\n",
    " 1. Зачем кодировать категориальные признаки?\n",
    "\n",
    "\n",
    "\n",
    " 2. Почему используется one-hot-кодирование, а не присвоение каждому значению конкретного числового кода?\n",
    "\n",
    "\n",
    "\n",
    " 3. Сколько новых признаков будет добавлено? Что делать, если есть пропущенные значения, как в данном случае?\n",
    "\n",
    "\n",
    "\n",
    " 4. В каких случаях допустимо присваивать каждому значению числовой код?\n",
    "\n",
    "\n",
    "\n",
    "\n",
    "\n",
    " #### ЗАДАНИЕ: В следующей ячейке реализуйте функцию, которая принимает датафрейм, название категориального признака и объект кодировщика. Затем добавляет новые признаки в форме one-hot-кодирования и игнорирует пропущенные значения (кодирует их как нули).\n",
    "\n",
    " #### Затем закодируйте тот же столбец/признак в тестовой выборке с тем же объектом кодировщика."
   ]
  },
  {
   "cell_type": "code",
   "execution_count": null,
   "metadata": {},
   "outputs": [],
   "source": [
    "from sklearn.preprocessing import OneHotEncoder, PolynomialFeatures\n",
    "\n",
    "encoder = OneHotEncoder(handle_unknown='ignore', sparse_output=False)\n",
    "cat_feats = ['galaxy']\n",
    "encoder.fit(x_train[cat_feats])\n",
    "\n",
    "def ohe_new_features(df, features_name, encoder):\n",
    "    new_feats = encoder.transform(df[features_name])\n",
    "    # Создаем имена для новых столбцов\n",
    "    new_columns = [f\"{features_name[0]}_{i}\" for i in range(new_feats.shape[1])]\n",
    "    new_cols = pd.DataFrame(new_feats, columns=new_columns, dtype=int)\n",
    "    new_df = pd.concat([df.reset_index(drop=True), new_cols], axis=1)\n",
    "    new_df.drop(features_name, axis=1, inplace=True)\n",
    "    return new_df\n",
    "\n",
    "\n",
    "# TODO: Напишите ваш код здесь (2 строки)\n",
    "# Преобразуйте как обучающую, так и тестовую выборки.\n"
   ]
  },
  {
   "cell_type": "markdown",
   "metadata": {},
   "source": [
    " ### Заполнение пропущенных значений (импутация)\n",
    "\n",
    " #### Импутация — это заполнение пропущенных значений в наборе данных.\n",
    "\n",
    " Несколько вопросов:\n",
    "\n",
    " 1. Зачем их заполнять? Почему не удалить строки с пропущенными значениями?\n",
    "\n",
    "\n",
    "\n",
    " 2. Заполнение постоянным значением для каждого признака, но каким?\n",
    "\n",
    "\n",
    "\n",
    " 3. (Продвинутый вопрос) Оцените значения для заполнения для каждой строки отдельно.\n",
    "\n",
    "\n",
    "\n",
    " 4. Как выбрать стратегию импутации?\n",
    "\n",
    "\n",
    "\n",
    " 5. (Не относится только к импутации) Почему мы обучаем импутер на обучающей выборке, а не на объединённой обучающей и тестовой?\n",
    "\n",
    "\n",
    "\n",
    "\n",
    "\n",
    " #### ЗАДАНИЕ: В следующей ячейке реализуйте функцию, которая возвращает количество NaN/пустых ячеек в датафрейме.\n",
    "\n",
    " #### ЗАДАНИЕ: Используйте объект SimpleImputer, обучите его на обучающей выборке, затем преобразуйте и обучающую, и тестовую выборки."
   ]
  },
  {
   "cell_type": "code",
   "execution_count": null,
   "metadata": {},
   "outputs": [],
   "source": [
    "from sklearn.impute import SimpleImputer\n",
    "import numpy as np\n",
    "\n",
    "# TODO: Дополните функцию, которая возвращает количество пустых ячеек \n",
    "def count_nans(df):\n",
    "    # 1 или 2 строки.\n",
    "    return None\n",
    "\n",
    "# TODO: Выведите количество пустых ячеек в x_train и x_test (1 строка)\n",
    "\n",
    "# TODO: Напишите ваш код здесь (4 строки):\n",
    "# создайте объект импутера.\n",
    "# обучите его на обучающей выборке.\n",
    "# преобразуйте обучающую и тестовую выборки.\n",
    "\n",
    "print(\"После импутации:\")\n",
    "# TODO: Выведите количество пустых ячеек в x_train и x_test (1 строка)\n",
    "\n"
   ]
  },
  {
   "cell_type": "markdown",
   "metadata": {},
   "source": [
    " ### Масштабирование признаков\n",
    "\n",
    " 1. Зачем нужно, чтобы все признаки имели одинаковый диапазон значений?\n",
    "\n",
    "\n",
    "\n",
    " 2. Какие есть стратегии масштабирования признаков? <br>\n",
    "\n",
    "\n",
    "\n",
    " 3. Как выбрать подходящую стратегию?\n",
    "\n",
    "\n",
    "\n",
    "\n",
    "\n",
    " #### ЗАДАНИЕ: В следующей ячейке масштабируйте все признаки с помощью выбранного вами масштабировщика. Обучите его на обучающей выборке и преобразуйте как обучающую, так и тестовую выборки."
   ]
  },
  {
   "cell_type": "code",
   "execution_count": null,
   "metadata": {},
   "outputs": [],
   "source": [
    "# TODO:\n",
    "# Напишите ваш код здесь (5 строк):\n",
    "# выберите класс масштабировщика.\n",
    "# создайте объект масштабировщика.\n",
    "# обучите его на обучающей выборке.\n",
    "# преобразуйте обучающую и тестовую выборки.\n"
   ]
  },
  {
   "cell_type": "markdown",
   "metadata": {},
   "source": [
    " ### Разделение обучающей выборки\n",
    "\n",
    " Причины разделения обучающей выборки:\n",
    "\n",
    " 1. Как мы будем оценивать производительность модели?\n",
    "\n",
    "\n",
    "\n",
    " 2. Как настраивать гиперпараметры? Можно ли использовать для этого тестовую выборку?\n",
    "\n",
    "\n",
    "\n",
    " Важные моменты:\n",
    "\n",
    " 1. Является ли это лучшей стратегией для оценки истинной ошибки/производительности системы?\n",
    "\n",
    "\n",
    "\n",
    " 2. (Продвинутый вопрос) Как выбрать между двумя моделями?\n",
    "\n",
    " Если у вас есть две модели, одна с точностью 90%, а другая — 91% (усреднённая по кросс-валидации), какую выбрать?\n",
    "\n",
    "\n",
    "\n",
    " #### ЗАДАНИЕ: В следующем задании разделите данные на 3 части — обучающую, тестовую и валидационную — в соотношении 70%, 20% и 10% соответственно."
   ]
  },
  {
   "cell_type": "code",
   "execution_count": null,
   "metadata": {},
   "outputs": [],
   "source": [
    "from sklearn.model_selection import train_test_split\n",
    "\n",
    "# TODO: разделите данные на 3 части — обучающую, тестовую и валидационную — в соотношении 70%, 20% и 10% соответственно.\n",
    "# Напишите ваш код здесь (2 строки)\n",
    "\n",
    "print(x_train.shape, x_test.shape, x_val.shape)\n"
   ]
  },
  {
   "cell_type": "markdown",
   "metadata": {},
   "source": [
    " ### Визуализация данных\n",
    "\n",
    " Визуализация — ключевой инструмент для получения инсайтов и интуиции о вашем наборе данных.\n",
    "\n",
    " Как построить график для 259 признаков (259-мерные данные)? Максимум можно отобразить 2D или 3D данные.\n",
    "\n",
    "\n",
    "\n",
    " Подсказка: Нужно уменьшить размерность. Прочитайте эту [статью](https://medium.com/data-science/dimensionality-reduction-ways-and-intuitions-1b5e97592d8e).\n",
    "\n",
    "\n",
    "\n",
    " Итак, давайте используем PCA для уменьшения размерности набора данных до 2D."
   ]
  },
  {
   "cell_type": "code",
   "execution_count": null,
   "metadata": {},
   "outputs": [],
   "source": [
    "from sklearn.decomposition import PCA, FactorAnalysis, FastICA\n",
    "from sklearn.manifold import MDS, TSNE\n",
    "# from umap import UMAP\n",
    "\n",
    "dim_reducer = PCA(n_components=2)\n",
    "x_train_reduced = dim_reducer.fit_transform(x_train)\n"
   ]
  },
  {
   "cell_type": "markdown",
   "metadata": {},
   "source": [
    " Построим график уменьшенного набора данных на плоскости.\n",
    "\n",
    " Используйте matplotlib для создания точечного графика (scatter plot) уменьшенного набора данных."
   ]
  },
  {
   "cell_type": "code",
   "execution_count": null,
   "metadata": {},
   "outputs": [],
   "source": [
    "import matplotlib.pyplot as plt\n",
    "%matplotlib inline\n",
    "\n",
    "# TODO: Напишите код для построения точечного графика уменьшенного набора данных."
   ]
  }
 ],
 "metadata": {
  "kernelspec": {
   "display_name": ".venv",
   "language": "python",
   "name": "python3"
  },
  "language_info": {
   "codemirror_mode": {
    "name": "ipython",
    "version": 3
   },
   "file_extension": ".py",
   "mimetype": "text/x-python",
   "name": "python",
   "nbconvert_exporter": "python",
   "pygments_lexer": "ipython3",
   "version": "3.12.9"
  }
 },
 "nbformat": 4,
 "nbformat_minor": 2
}
