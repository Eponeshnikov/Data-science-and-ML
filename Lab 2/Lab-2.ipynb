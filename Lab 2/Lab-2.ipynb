{
 "cells": [
  {
   "cell_type": "markdown",
   "metadata": {},
   "source": [
    " ### Линейная регрессия\n",
    " ```\n",
    "\n",
    " План лабораторной работы\n",
    "\n",
    " 1. Линейная регрессия\n",
    "\n",
    " 2. Множественная линейная регрессия\n",
    "\n",
    " 3. Полиномиальная регрессия\n",
    "\n",
    "4. Переобучение и недообучение\n",
    "\n",
    " ```\n",
    " <hr>"
   ]
  },
  {
   "cell_type": "markdown",
   "metadata": {},
   "source": [
    " ## Типичная процедура обучения модели машинного обучения\n",
    "\n",
    "\n",
    "\n",
    " 1. Определение задачи (обучение с учителем или без учителя, классификация или регрессия)\n",
    "\n",
    " 1. Импорт необходимых библиотек\n",
    "\n",
    " 1. Загрузка и исследование набора данных (визуализация)\n",
    "\n",
    " 1. Предварительная обработка данных и разделение на обучающую и тестовую выборки (выбор признаков, масштабирование, нормализация и т.д.)\n",
    "\n",
    " 1. Построение, обучение и тестирование модели\n",
    "\n",
    " 1. Оценка модели с использованием соответствующих метрик оценки (MSE, $R^2$, точность, F-мера, точность, полнота и т.д.)"
   ]
  },
  {
   "cell_type": "markdown",
   "metadata": {},
   "source": [
    " ## 1. Линейная регрессия\n",
    "\n",
    "\n",
    "\n",
    " В этой задаче регрессии мы будем предсказывать процент оценок, которые студент, вероятно, получит, основываясь на количестве часов, которые он потратил на учебу.\n",
    "\n",
    " <br>\n",
    "\n",
    " <br>\n",
    "\n",
    " <center><b>Простая линейная регрессия</b></center>\n",
    "\n",
    "\n",
    "\n",
    " $$y = \\beta_0 + \\beta_1x_1 $$\n",
    "\n",
    "\n",
    "\n",
    " **Задание 1.1:** Объясните своими словами, что означают коэффициенты $\\beta_0$ и $\\beta_1$ в контексте этой задачи."
   ]
  },
  {
   "cell_type": "code",
   "execution_count": null,
   "metadata": {},
   "outputs": [],
   "source": [
    "# TODO: Объясните значение beta_0 и beta_1\n"
   ]
  },
  {
   "cell_type": "markdown",
   "metadata": {},
   "source": [
    " ### 1.2 Импорт необходимых библиотек"
   ]
  },
  {
   "cell_type": "code",
   "execution_count": null,
   "metadata": {},
   "outputs": [],
   "source": [
    "import pandas as pd \n",
    "import numpy as np\n",
    "import matplotlib.pyplot as plt\n",
    "%matplotlib inline\n",
    "\n",
    "from sklearn.model_selection import train_test_split\n",
    "from sklearn.linear_model import LinearRegression\n",
    "from sklearn import metrics\n"
   ]
  },
  {
   "cell_type": "markdown",
   "metadata": {},
   "source": [
    " ### 1.3 Загрузка и исследование набора данных"
   ]
  },
  {
   "cell_type": "code",
   "execution_count": null,
   "metadata": {},
   "outputs": [],
   "source": [
    "student_scores_df = pd.read_csv('student_scores.csv')\n",
    "student_scores_df.head()\n"
   ]
  },
  {
   "cell_type": "markdown",
   "metadata": {},
   "source": [
    " ### 1.3.1 Статистика данных"
   ]
  },
  {
   "cell_type": "code",
   "execution_count": null,
   "metadata": {},
   "outputs": [],
   "source": [
    "student_scores_df.describe()\n"
   ]
  },
  {
   "cell_type": "markdown",
   "metadata": {},
   "source": [
    " ### 1.3.1 Визуализация\n",
    "\n",
    "\n",
    "\n",
    " Постройте точки данных на двумерном графике, чтобы визуально оценить наш набор данных и посмотреть, можно ли вручную найти какую-либо зависимость между точками данных. Обычно используется Matplotlib, но существуют и другие библиотеки, например [Plotly](https://github.com/plotly/plotly.py  ), [Seaborn](https://seaborn.pydata.org/  ),[Geoplotlib](https://github.com/andrea-cuttone/geoplotlib/wiki/User-Guide  ), [Gleam](https://github.com/dgrtwo/gleam  ), [ggplot](https://github.com/tidyverse/ggplot2  )\n",
    "\n",
    "\n",
    "\n",
    " **Помните:** График должен иметь заголовок, подписи осей и легенду для легкой интерпретации"
   ]
  },
  {
   "cell_type": "code",
   "execution_count": null,
   "metadata": {},
   "outputs": [],
   "source": [
    "student_scores_df.plot(x='Hours', y='Scores', style='o')\n",
    "plt.title('Часы против Процента')\n",
    "plt.xlabel('Часы учебы')\n",
    "plt.ylabel('Процент оценки')\n",
    "plt.show()\n"
   ]
  },
  {
   "cell_type": "markdown",
   "metadata": {},
   "source": [
    " **Задание 1.2:** Используя библиотеку `seaborn`, создайте более продвинутую визуализацию, например, `sns.scatterplot()` с теми же данными. Добавьте линию тренда с помощью `sns.regplot()`."
   ]
  },
  {
   "cell_type": "code",
   "execution_count": null,
   "metadata": {},
   "outputs": [],
   "source": [
    "# TODO: Создайте визуализацию с seaborn\n"
   ]
  },
  {
   "cell_type": "markdown",
   "metadata": {},
   "source": [
    " ### 1.4 Предварительная обработка данных и разделение на обучающий и тестовый наборы"
   ]
  },
  {
   "cell_type": "code",
   "execution_count": null,
   "metadata": {},
   "outputs": [],
   "source": [
    "X = student_scores_df.iloc[:, :-1].values\n",
    "y = student_scores_df.iloc[:, 1].values\n",
    "\n",
    "X_train, X_test, y_train, y_test = train_test_split(X, y, test_size=0.2, random_state=431)\n"
   ]
  },
  {
   "cell_type": "markdown",
   "metadata": {},
   "source": [
    " ### 1.5 Построение, обучение и тестирование модели линейной регрессии"
   ]
  },
  {
   "cell_type": "code",
   "execution_count": null,
   "metadata": {},
   "outputs": [],
   "source": [
    "regressor = LinearRegression()\n",
    "regressor.fit(X_train, y_train)\n",
    "print(f\"Пересечение модели (intercept) : {regressor.intercept_}\")\n",
    "print(f\"Коэффициент модели (coefficient) : {regressor.coef_}\")\n",
    "\n",
    "y_pred = regressor.predict(X_test)\n",
    "eval_df = pd.DataFrame({'Фактический': y_test, 'Прогнозируемый': y_pred})\n"
   ]
  },
  {
   "cell_type": "code",
   "execution_count": null,
   "metadata": {},
   "outputs": [],
   "source": [
    "eval_df\n"
   ]
  },
  {
   "cell_type": "markdown",
   "metadata": {},
   "source": [
    " **Задание 1.4:** Используйте обученную модель для предсказания оценки студента, который учился 9.25 часов. Сравните это предсказание с фактическими данными, если они доступны."
   ]
  },
  {
   "cell_type": "code",
   "execution_count": null,
   "metadata": {},
   "outputs": [],
   "source": [
    "# TODO: Сделайте предсказание для 9.25 часов обучения\n"
   ]
  },
  {
   "cell_type": "markdown",
   "metadata": {},
   "source": [
    " ### 1.5 Оценка модели с использованием соответствующих метрик оценки"
   ]
  },
  {
   "cell_type": "code",
   "execution_count": null,
   "metadata": {},
   "outputs": [],
   "source": [
    "print('Средняя абсолютная ошибка (MAE):', metrics.mean_absolute_error(y_test, y_pred))\n",
    "print('Среднеквадратичная ошибка (MSE):', metrics.mean_squared_error(y_test, y_pred))\n",
    "print('Корень из среднеквадратичной ошибки (RMSE):', np.sqrt(metrics.mean_squared_error(y_test, y_pred)))\n",
    "print('Коэффициент детерминации (R2):', metrics.r2_score(y_test, y_pred))\n"
   ]
  },
  {
   "cell_type": "markdown",
   "metadata": {},
   "source": [
    " ## 2. Множественная линейная регрессия\n",
    "\n",
    "\n",
    "\n",
    " Линейная регрессия с участием нескольких переменных называется \"множественной линейной регрессией\".\n",
    "\n",
    " Мы будем использовать множественную линейную регрессию для прогнозирования потребления бензина (в миллионах галлонов) в 48 штатах США на основе налогов на бензин (в центах), дохода на душу населения (доллары), асфальтированных автомагистралей (в милях) и доли населения, имеющего водительские права.\n",
    "\n",
    " Мы ищем модель вида:\n",
    "\n",
    "\n",
    "\n",
    " $$\\hat{y} = \\beta_0 + \\beta_1 x_1 + \\beta_2 x_2 + ... + \\beta_n x_n.$$"
   ]
  },
  {
   "cell_type": "markdown",
   "metadata": {},
   "source": [
    " ### 2.3  Загрузка и исследование набора данных"
   ]
  },
  {
   "cell_type": "code",
   "execution_count": null,
   "metadata": {},
   "outputs": [],
   "source": [
    "petrol_consumption_df = pd.read_csv('petrol_consumption.csv')\n",
    "petrol_consumption_df.head()\n"
   ]
  },
  {
   "cell_type": "code",
   "execution_count": null,
   "metadata": {},
   "outputs": [],
   "source": [
    "petrol_consumption_df.describe().T\n"
   ]
  },
  {
   "cell_type": "markdown",
   "metadata": {},
   "source": [
    " **Задание 2.1:** Постройте матрицу корреляций для всех признаков в датасете `petrol_consumption_df` с помощью `seaborn.heatmap()`. Проанализируйте, какие признаки наиболее сильно коррелируют с целевой переменной `Petrol_Consumption`."
   ]
  },
  {
   "cell_type": "code",
   "execution_count": null,
   "metadata": {},
   "outputs": [],
   "source": [
    "# TODO: Постройте матрицу корреляций\n"
   ]
  },
  {
   "cell_type": "markdown",
   "metadata": {},
   "source": [
    " ### 2.4 Предварительная обработка данных и разделение на обучающий и тестовый наборы"
   ]
  },
  {
   "cell_type": "code",
   "execution_count": null,
   "metadata": {},
   "outputs": [],
   "source": [
    "X = petrol_consumption_df.drop('Petrol_Consumption', axis=1)\n",
    "y = petrol_consumption_df['Petrol_Consumption']\n",
    "X_train, X_test, y_train, y_test = train_test_split(X, y, test_size=0.2, random_state=0)\n"
   ]
  },
  {
   "cell_type": "markdown",
   "metadata": {},
   "source": [
    " **Задание 2.2:** Проверьте, нет ли в данных пропущенных значений (missing values) с помощью метода `.isnull().sum()` для датафрейма `petrol_consumption_df`."
   ]
  },
  {
   "cell_type": "code",
   "execution_count": null,
   "metadata": {},
   "outputs": [],
   "source": [
    "# TODO: Проверьте наличие пропущенных значений\n"
   ]
  },
  {
   "cell_type": "markdown",
   "metadata": {},
   "source": [
    " ### 2.5 Построение, обучение и тестирование модели регрессии"
   ]
  },
  {
   "cell_type": "code",
   "execution_count": null,
   "metadata": {},
   "outputs": [],
   "source": [
    "regressor = LinearRegression()\n",
    "regressor.fit(X_train, y_train)\n",
    "print(f\"Пересечение модели (intercept) : {regressor.intercept_}\")\n",
    "print(f\"Коэффициенты модели (coefficients) : {regressor.coef_}\")\n"
   ]
  },
  {
   "cell_type": "markdown",
   "metadata": {},
   "source": [
    " **Задание 2.3:** Создайте DataFrame, который будет содержать имена признаков и соответствующие им коэффициенты модели. Это поможет лучше интерпретировать влияние каждого признака на целевую переменную."
   ]
  },
  {
   "cell_type": "code",
   "execution_count": null,
   "metadata": {},
   "outputs": [],
   "source": [
    "# TODO: Создайте DataFrame с коэффициентами модели\n"
   ]
  },
  {
   "cell_type": "markdown",
   "metadata": {},
   "source": [
    " ### 2.6 Оценка модели с использованием соответствующих метрик оценки\n",
    "\n",
    "\n",
    "\n",
    " **Задание 1 :** Используйте функцию predict в модели (`regressor`) для прогнозирования выходных данных тестового набора (`X_test`) и распечатайте их.\n",
    "\n",
    "\n",
    "\n",
    " **Задание 2 :** Измерьте производительность модели с помощью: <br>\n",
    "\n",
    " 1. корня среднеквадратичной ошибки (RMSE)\n",
    "\n",
    " 1. средней абсолютной ошибки (MAE)\n",
    "\n",
    " 1. коэффициента детерминации $R^2$. См. [`sklearn.metrics.r2_score`](https://scikit-learn.org/stable/modules/generated/sklearn.metrics.r2_score.html  ) для $R^2$."
   ]
  },
  {
   "cell_type": "code",
   "execution_count": null,
   "metadata": {},
   "outputs": [],
   "source": [
    "# TODO: Сделайте предсказания на тестовом наборе\n"
   ]
  },
  {
   "cell_type": "code",
   "execution_count": null,
   "metadata": {},
   "outputs": [],
   "source": [
    "# TODO: Вычислите метрики RMSE, MAE и R2\n"
   ]
  },
  {
   "cell_type": "markdown",
   "metadata": {},
   "source": [
    " ## 3. Полиномиальная регрессия, недообучение и переобучение\n",
    "\n",
    "\n",
    "\n",
    " Полиномиальная регрессия - это просто преобразование объясняющих переменных в члены более высокого полиномиального порядка с интерактивными переменными.\n",
    "\n",
    "\n",
    "\n",
    " 1. Зачем она нам нужна?\n",
    "\n",
    " 1. Какой порядок полинома мы должны выбрать?\n",
    "\n",
    " 2. Следует ли всегда выбирать самую сложную модель?\n",
    "\n",
    "\n",
    "\n"
   ]
  },
  {
   "cell_type": "markdown",
   "metadata": {},
   "source": [
    " ### 3.2 Импорт библиотек"
   ]
  },
  {
   "cell_type": "code",
   "execution_count": null,
   "metadata": {},
   "outputs": [],
   "source": [
    "from sklearn.pipeline import Pipeline\n",
    "from sklearn.preprocessing import PolynomialFeatures #для преобразования исходных признаков в их члены более высокого порядка \n",
    "from sklearn.linear_model import LinearRegression\n",
    "from sklearn.model_selection import cross_val_score\n"
   ]
  },
  {
   "cell_type": "markdown",
   "metadata": {},
   "source": [
    " ### 3.3 Загрузка и исследование набора данных\n",
    "\n",
    " **Для этой задачи мы сгенерируем синтетический набор данных, добавив некоторый случайный гауссовский шум к косинусоидальной функции.**"
   ]
  },
  {
   "cell_type": "code",
   "execution_count": null,
   "metadata": {},
   "outputs": [],
   "source": [
    "# косинусоидальная функция\n",
    "def sinusoidal(X):\n",
    "    return np.cos(1.5 * np.pi * X)\n",
    "\n",
    "np.random.seed(0)\n",
    "\n",
    "n_samples = 30\n",
    "X = np.sort(np.random.rand(n_samples))\n",
    "y = sinusoidal(X) + np.random.randn(n_samples) * 0.1\n",
    "\n",
    "plt.scatter(X,y,label=\"Выборки\")\n",
    "plt.title('синтетический набор данных')\n",
    "plt.xlabel('X')\n",
    "plt.ylabel('Y')\n",
    "plt.legend(loc=\"best\")\n",
    "plt.show()\n"
   ]
  },
  {
   "cell_type": "markdown",
   "metadata": {},
   "source": [
    " **Задание 3.1:** Попробуйте изменить уровень шума (коэффициент перед `np.random.randn`) на 0.01 и 0.5. Как это влияет на сложность задачи и выбор подходящей модели?"
   ]
  },
  {
   "cell_type": "code",
   "execution_count": null,
   "metadata": {},
   "outputs": [],
   "source": [
    "# TODO: Исследуйте влияние уровня шума на данные\n"
   ]
  },
  {
   "cell_type": "markdown",
   "metadata": {},
   "source": [
    " ### 3.4 Предварительная обработка данных, построение модели и оценка модели\n",
    "\n",
    "\n",
    "\n",
    " * Мы построим три полиномиальные модели со степенями [1, 4, 15] и понаблюдаем за влиянием увеличения степени сложности модели на то, насколько хорошо она подходит к данным.\n",
    "\n",
    " * Мы оценим нашу модель с помощью перекрестной проверки (cross validation)"
   ]
  },
  {
   "cell_type": "code",
   "execution_count": null,
   "metadata": {},
   "outputs": [],
   "source": [
    "degrees = [1, 4, 15]\n",
    "\n",
    "plt.figure(figsize=(14, 5))\n",
    "for i in range(len(degrees)):\n",
    "    ax = plt.subplot(1, len(degrees), i + 1)\n",
    "    plt.setp(ax, xticks=(), yticks=())\n",
    "\n",
    "    polynomial_features = PolynomialFeatures(degree=degrees[i])\n",
    "    linear_regression = LinearRegression()\n",
    "    pipeline = Pipeline([(\"polynomial_features\", polynomial_features),\n",
    "                         (\"linear_regression\", linear_regression)])\n",
    "    pipeline.fit(X[:, np.newaxis], y)\n",
    "\n",
    "    # Оценка моделей с использованием перекрестной проверки\n",
    "    scores = cross_val_score(pipeline, X[:, np.newaxis], y,\n",
    "                             scoring=\"neg_mean_squared_error\", cv=10)\n",
    "\n",
    "    X_test = np.linspace(0, 1, 100)\n",
    "    plt.plot(X_test, pipeline.predict(X_test[:, np.newaxis]), label=\"Модель\")\n",
    "    plt.plot(X_test, sinusoidal(X_test), label=\"Истинная функция\")\n",
    "    plt.scatter(X, y, edgecolor='b', s=20, label=\"Выборки\")\n",
    "    plt.xlabel(\"x\")\n",
    "    plt.ylabel(\"y\")\n",
    "    plt.xlim((0, 1))\n",
    "    plt.ylim((-2, 2))\n",
    "    plt.legend(loc=\"best\")\n",
    "    plt.title(\"Степень {}\\nMSE = {:.2e}(+/- {:.2e})\".format(\n",
    "        degrees[i], -scores.mean(), scores.std()))\n",
    "plt.show()\n"
   ]
  },
  {
   "cell_type": "markdown",
   "metadata": {},
   "source": [
    " **Задание 3.2:** Объясните, какая из трех моделей (степень 1, 4 или 15) демонстрирует недообучение, какая - хорошее приближение, а какая - переобучение. Обоснуйте свой ответ."
   ]
  },
  {
   "cell_type": "code",
   "execution_count": null,
   "metadata": {},
   "outputs": [],
   "source": [
    "# TODO: Объясните недообучение, переобучение и хорошее приближение\n"
   ]
  },
  {
   "cell_type": "markdown",
   "metadata": {},
   "source": [
    " **Задание 3.3:** Попробуйте добавить регуляризацию (например, Ridge regression) к полиномиальной модели степени 15. Помогает ли это уменьшить переобучение?"
   ]
  },
  {
   "cell_type": "code",
   "execution_count": null,
   "metadata": {},
   "outputs": [],
   "source": [
    "# TODO: Примените регуляризацию Ridge к модели\n"
   ]
  },
  {
   "cell_type": "markdown",
   "metadata": {},
   "source": [
    "  ## <center>Задания / Домашняя работа</center>\n",
    "\n",
    "\n",
    "\n",
    "\n",
    "\n",
    "\n",
    "\n",
    "  * Используя набор данных о ценах на жилье в Бостоне (Boston house-prices dataset).\n",
    "\n",
    "\n",
    "\n",
    "      1. Разделите данные на обучающий и тестовый наборы (80% для обучения). Используйте [`sklearn.model_selection.train_test_split`](https://scikit-learn.org/stable/modules/generated/sklearn.model_selection.train_test_split.html    )\n",
    "\n",
    "\n",
    "\n",
    "      1. Обучите модель множественной линейной регрессии, которая будет предсказывать цену дома (`MEDV`).\n",
    "\n",
    "\n",
    "\n",
    "      1. Распечатайте `среднюю абсолютную ошибку` (MAE), `среднеквадратичную ошибку` (MSE) и `корень из среднеквадратичной ошибки` (RMSE) модели.\n",
    "\n",
    "\n",
    "\n",
    "\n",
    "\n",
    "\n",
    "\n",
    "\n",
    "\n",
    "\n",
    "\n",
    "  * Выберите `RM` или `LSTAT` в качестве независимой переменной и `MEDV` в качестве зависимой переменной\n",
    "\n",
    "\n",
    "\n",
    "      1. Визуализируйте данные (используя `matplotlib`)\n",
    "\n",
    "\n",
    "\n",
    "      1. Создайте модель полиномиальной регрессии, используя степени `[1,5,24]`\n",
    "\n",
    "\n",
    "\n",
    "      1. Объясните свои наблюдения в терминах переобучения, недообучения и компромисса смещения-дисперсии.\n",
    "\n",
    "\n",
    "\n",
    "\n",
    "\n",
    "\n",
    "\n",
    "  * Дополнительные задания:\n",
    "\n",
    "\n",
    "\n",
    "      1. Постройте графики зависимости MSE от степени полинома для обучающей и тестовой выборок. Проанализируйте, при какой степени начинается переобучение.\n",
    "\n",
    "\n",
    "\n",
    "      1. Используйте регуляризацию (Ridge или Lasso) для борьбы с переобучением в полиномиальной регрессии. Сравните результаты.\n"
   ]
  },
  {
   "cell_type": "code",
   "execution_count": null,
   "metadata": {},
   "outputs": [],
   "source": [
    "import pandas as pd\n",
    "import numpy as np\n",
    "def load_boston():\n",
    "    header =  ['CRIM', 'ZN', 'INDUS', 'CHAS', 'NOX', 'RM', 'AGE', 'DIS', 'RAD', 'TAX', 'PTRATIO', 'B', 'LSTAT', 'MEDV'] \n",
    "    data_url = \"http://lib.stat.cmu.edu/datasets/boston\"\n",
    "    raw_df = pd.read_csv(data_url, sep=\"\\s+\", skiprows=22, header=None)\n",
    "    data = np.hstack([raw_df.values[::2, :], raw_df.values[1::2, :2]])\n",
    "    target = np.expand_dims(raw_df.values[1::2, 2], 1)\n",
    "    df = pd.DataFrame(np.hstack([data, target]), columns=header)\n",
    "    return df\n"
   ]
  },
  {
   "cell_type": "code",
   "execution_count": null,
   "metadata": {},
   "outputs": [],
   "source": [
    "# Решение"
   ]
  }
 ],
 "metadata": {
  "kernelspec": {
   "display_name": ".venv",
   "language": "python",
   "name": "python3"
  },
  "language_info": {
   "codemirror_mode": {
    "name": "ipython",
    "version": 3
   },
   "file_extension": ".py",
   "mimetype": "text/x-python",
   "name": "python",
   "nbconvert_exporter": "python",
   "pygments_lexer": "ipython3",
   "version": "3.12.9"
  }
 },
 "nbformat": 4,
 "nbformat_minor": 2
}
